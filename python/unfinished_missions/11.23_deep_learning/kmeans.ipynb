{
 "cells": [
  {
   "cell_type": "markdown",
   "metadata": {},
   "source": [
    "### Task Specification:\n",
    "\n",
    "1. **Convert the Image to Two Dimensions (samples and three features):**\n",
    "   - The image should be reshaped so that each row corresponds to a pixel and each row should have three features (presumably the RGB values of the pixel).<br><br>\n",
    "\n",
    "2. **Compute the k Centroids:**\n",
    "   - Use the K-means algorithm to compute the k cluster centroids, where k is a pre-specified number of clusters.<br><br>\n",
    "\n",
    "3. **For Each Pixel (feature), Assign its Values to its Cluster:**\n",
    "   - For each pixel in the image, calculate the Euclidean distance to each of the k cluster centroids. Assign the pixel to the cluster whose centroid is closest to it. The value of the pixel should be updated to be the value of its cluster centroid.<br><br>\n",
    "\n",
    "4. **Reshape the Matrix to its Original Form and Display:**\n",
    "   - After all pixels have been assigned to clusters and their values have been updated to be their respective cluster centroids, reshape this matrix back to the original shape of the image and display the result.<br><br>\n",
    "\n",
    "5. **(The last steps have been implemented for you...)**\n"
   ]
  },
  {
   "cell_type": "code",
   "execution_count": 17,
   "metadata": {},
   "outputs": [
    {
     "name": "stdout",
     "output_type": "stream",
     "text": [
      "/bin/sh: 1: conda: not found\r\n"
     ]
    }
   ],
   "source": [
    "!condainstall -c anaconda opencv"
   ]
  },
  {
   "cell_type": "code",
   "execution_count": 15,
   "metadata": {},
   "outputs": [
    {
     "ename": "ImportError",
     "evalue": "libGL.so.1: cannot open shared object file: No such file or directory",
     "output_type": "error",
     "traceback": [
      "\u001b[0;31m---------------------------------------------------------------------------\u001b[0m",
      "\u001b[0;31mImportError\u001b[0m                               Traceback (most recent call last)",
      "\u001b[0;32m<ipython-input-15-5461a566d8f8>\u001b[0m in \u001b[0;36m<module>\u001b[0;34m\u001b[0m\n\u001b[1;32m      3\u001b[0m \u001b[0;32mimport\u001b[0m \u001b[0mrequests\u001b[0m\u001b[0;34m\u001b[0m\u001b[0;34m\u001b[0m\u001b[0m\n\u001b[1;32m      4\u001b[0m \u001b[0;32mimport\u001b[0m \u001b[0mnumpy\u001b[0m \u001b[0;32mas\u001b[0m \u001b[0mnp\u001b[0m\u001b[0;34m\u001b[0m\u001b[0;34m\u001b[0m\u001b[0m\n\u001b[0;32m----> 5\u001b[0;31m \u001b[0;32mimport\u001b[0m \u001b[0mcv2\u001b[0m\u001b[0;34m\u001b[0m\u001b[0;34m\u001b[0m\u001b[0m\n\u001b[0m\u001b[1;32m      6\u001b[0m \u001b[0;34m\u001b[0m\u001b[0m\n\u001b[1;32m      7\u001b[0m \u001b[0;31m# URL of the image to download\u001b[0m\u001b[0;34m\u001b[0m\u001b[0;34m\u001b[0m\u001b[0;34m\u001b[0m\u001b[0m\n",
      "\u001b[0;31mImportError\u001b[0m: libGL.so.1: cannot open shared object file: No such file or directory"
     ]
    }
   ],
   "source": [
    "\n",
    "from matplotlib import pyplot as plt\n",
    "import requests\n",
    "import numpy as np\n",
    "import cv2\n",
    "\n",
    "# URL of the image to download\n",
    "image_url = 'https://cdn.pixabay.com/photo/2014/08/15/11/29/beach-418742_640.jpg'\n",
    "\n",
    "# Send a GET request to the URL\n",
    "response = requests.get(image_url)\n",
    "\n",
    "# Check if the request was successful (status code 200)\n",
    "if response.status_code == 200:\n",
    "    # Get the content of the response\n",
    "    image_data = response.content\n",
    "\n",
    "    # Convert the image data to a NumPy array\n",
    "    nparr = np.frombuffer(image_data, np.uint8)\n",
    "\n",
    "    # Decode the image array using OpenCV\n",
    "    image = cv2.imdecode(nparr, cv2.IMREAD_COLOR)\n",
    "\n",
    "    desired_width = 426\n",
    "    desired_height = 320\n",
    "\n",
    "    # Downsample the image\n",
    "    image = cv2.resize(image, (desired_width, desired_height))\n",
    "\n",
    "    # Display the image\n",
    "    plt.figure(figsize=(7,7))\n",
    "    plt.imshow(image[:,:,::-1])\n",
    "    plt.show()\n",
    "    \n",
    "else:\n",
    "    print('Failed to download the image. Status code:', response.status_code)\n"
   ]
  },
  {
   "cell_type": "code",
   "execution_count": 4,
   "metadata": {},
   "outputs": [],
   "source": [
    "img = image.reshape..."
   ]
  },
  {
   "cell_type": "code",
   "execution_count": 6,
   "metadata": {},
   "outputs": [
    {
     "ename": "NameError",
     "evalue": "name 'centroids' is not defined",
     "output_type": "error",
     "traceback": [
      "\u001b[0;31m---------------------------------------------------------------------------\u001b[0m",
      "\u001b[0;31mNameError\u001b[0m                                 Traceback (most recent call last)",
      "Cell \u001b[0;32mIn[6], line 1\u001b[0m\n\u001b[0;32m----> 1\u001b[0m centroids \u001b[39m=\u001b[39m np\u001b[39m.\u001b[39marray(centroids)\n\u001b[1;32m      2\u001b[0m \u001b[39m# Map each pixel to its corresponding cluster center\u001b[39;00m\n\u001b[1;32m      3\u001b[0m segmented_image \u001b[39m=\u001b[39m centroids[labels]\n",
      "\u001b[0;31mNameError\u001b[0m: name 'centroids' is not defined"
     ]
    }
   ],
   "source": [
    "centroids = np.array(centroids)\n",
    "# Map each pixel to its corresponding cluster center\n",
    "segmented_image = centroids[labels]\n",
    "\n",
    "# Reshape the segmented image back to its original shape\n",
    "segmented_image = segmented_image.reshape(image.shape).astype(int)\n",
    "\n",
    "\n",
    "# Display the original and segmented images\n",
    "plt.figure(figsize=(7,7))\n",
    "plt.imshow(segmented_image[:,:,::-1])\n",
    "plt.show()"
   ]
  },
  {
   "cell_type": "code",
   "execution_count": null,
   "metadata": {},
   "outputs": [],
   "source": []
  },
  {
   "cell_type": "code",
   "execution_count": null,
   "metadata": {},
   "outputs": [],
   "source": []
  }
 ],
 "metadata": {
  "kernelspec": {
   "display_name": "Python 3",
   "language": "python",
   "name": "python3"
  },
  "language_info": {
   "codemirror_mode": {
    "name": "ipython",
    "version": 3
   },
   "file_extension": ".py",
   "mimetype": "text/x-python",
   "name": "python",
   "nbconvert_exporter": "python",
   "pygments_lexer": "ipython3",
   "version": "3.7.3"
  }
 },
 "nbformat": 4,
 "nbformat_minor": 2
}
