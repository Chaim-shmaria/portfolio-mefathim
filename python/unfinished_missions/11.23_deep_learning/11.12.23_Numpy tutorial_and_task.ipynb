{
 "cells": [
  {
   "cell_type": "markdown",
   "id": "2f764c46",
   "metadata": {},
   "source": [
    "# NumPy\n",
    "### NumPy is a powerful and widely-used library in Python for numerical computing. It provides a high-performance array object for efficient processing and manipulation of large datasets."
   ]
  },
  {
   "cell_type": "markdown",
   "id": "eebf1351",
   "metadata": {},
   "source": [
    "Here are some of the main functionalities of NumPy:\n",
    "\n",
    "## N-dimensional arrays: \n",
    "NumPy provides support for multi-dimensional arrays, which are commonly used for storing and processing large amounts of numerical data."
   ]
  },
  {
   "cell_type": "code",
   "execution_count": 2,
   "id": "6fc4ccf1",
   "metadata": {
    "ExecuteTime": {
     "end_time": "2023-11-14T09:40:11.592889700Z",
     "start_time": "2023-11-14T09:40:11.440294800Z"
    }
   },
   "outputs": [
    {
     "data": {
      "text/plain": "array([1., 2., 3., 4.], dtype=float32)"
     },
     "execution_count": 2,
     "metadata": {},
     "output_type": "execute_result"
    }
   ],
   "source": [
    "import numpy as np\n",
    "\n",
    "# Create a 1D array\n",
    "a = np.array([1, 2, 3, 4], dtype=np.float32)\n",
    "a"
   ]
  },
  {
   "cell_type": "code",
   "execution_count": 21,
   "id": "baa0cb3c",
   "metadata": {},
   "outputs": [
    {
     "data": {
      "text/plain": [
       "array([[1, 2, 3],\n",
       "       [4, 5, 6]])"
      ]
     },
     "execution_count": 21,
     "metadata": {},
     "output_type": "execute_result"
    }
   ],
   "source": [
    "# Create a 2D array\n",
    "b = np.array([[1, 2, 3], [4, 5, 6]])\n",
    "b"
   ]
  },
  {
   "cell_type": "code",
   "execution_count": 22,
   "id": "f7f1ec75",
   "metadata": {},
   "outputs": [
    {
     "data": {
      "text/plain": [
       "array([[ 1,  4,  9],\n",
       "       [16, 25, 36]])"
      ]
     },
     "execution_count": 22,
     "metadata": {},
     "output_type": "execute_result"
    }
   ],
   "source": [
    "b*b"
   ]
  },
  {
   "cell_type": "code",
   "execution_count": 23,
   "id": "b241c72d",
   "metadata": {},
   "outputs": [
    {
     "data": {
      "text/plain": [
       "(4,)"
      ]
     },
     "execution_count": 23,
     "metadata": {},
     "output_type": "execute_result"
    }
   ],
   "source": [
    "a.shape"
   ]
  },
  {
   "cell_type": "code",
   "execution_count": 24,
   "id": "720b390b",
   "metadata": {},
   "outputs": [
    {
     "data": {
      "text/plain": [
       "(2, 3)"
      ]
     },
     "execution_count": 24,
     "metadata": {},
     "output_type": "execute_result"
    }
   ],
   "source": [
    "b.shape"
   ]
  },
  {
   "cell_type": "code",
   "execution_count": 25,
   "id": "2929691a",
   "metadata": {},
   "outputs": [
    {
     "data": {
      "text/plain": [
       "dtype('float32')"
      ]
     },
     "execution_count": 25,
     "metadata": {},
     "output_type": "execute_result"
    }
   ],
   "source": [
    "a.dtype"
   ]
  },
  {
   "cell_type": "code",
   "execution_count": 26,
   "id": "029a7b3b",
   "metadata": {},
   "outputs": [
    {
     "data": {
      "text/plain": [
       "1.0"
      ]
     },
     "execution_count": 26,
     "metadata": {},
     "output_type": "execute_result"
    }
   ],
   "source": [
    "a[0]"
   ]
  },
  {
   "cell_type": "code",
   "execution_count": 27,
   "id": "36c4f0f1",
   "metadata": {},
   "outputs": [
    {
     "data": {
      "text/plain": [
       "6"
      ]
     },
     "execution_count": 27,
     "metadata": {},
     "output_type": "execute_result"
    }
   ],
   "source": [
    "b[1,2]"
   ]
  },
  {
   "cell_type": "markdown",
   "id": "7496b2b8",
   "metadata": {},
   "source": [
    "## Array operations: \n",
    "    NumPy provides a wide range of functions for performing mathematical operations on arrays, including basic arithmetic, linear algebra, statistical analysis, and more."
   ]
  },
  {
   "cell_type": "code",
   "execution_count": 28,
   "id": "37a3d32a",
   "metadata": {},
   "outputs": [
    {
     "data": {
      "text/plain": [
       "array([ 6,  8, 10, 12])"
      ]
     },
     "execution_count": 28,
     "metadata": {},
     "output_type": "execute_result"
    }
   ],
   "source": [
    "# Basic arithmetic: \n",
    "# You can perform basic arithmetic operations on arrays\n",
    "\n",
    "\n",
    "\n",
    "a = np.array([1, 2, 3, 4])\n",
    "b = np.array([5, 6, 7, 8])\n",
    "\n",
    "# Addition\n",
    "a + b"
   ]
  },
  {
   "cell_type": "code",
   "execution_count": 29,
   "id": "df76816c",
   "metadata": {},
   "outputs": [
    {
     "data": {
      "text/plain": [
       "array([-4, -4, -4, -4])"
      ]
     },
     "execution_count": 29,
     "metadata": {},
     "output_type": "execute_result"
    }
   ],
   "source": [
    "# Subtraction\n",
    "a - b"
   ]
  },
  {
   "cell_type": "code",
   "execution_count": 30,
   "id": "039aaf29",
   "metadata": {},
   "outputs": [
    {
     "data": {
      "text/plain": [
       "array([ 5, 12, 21, 32])"
      ]
     },
     "execution_count": 30,
     "metadata": {},
     "output_type": "execute_result"
    }
   ],
   "source": [
    "# Multiplication\n",
    "a * b"
   ]
  },
  {
   "cell_type": "code",
   "execution_count": 31,
   "id": "308a6a64",
   "metadata": {},
   "outputs": [
    {
     "data": {
      "text/plain": [
       "array([0.2       , 0.33333333, 0.42857143, 0.5       ])"
      ]
     },
     "execution_count": 31,
     "metadata": {},
     "output_type": "execute_result"
    }
   ],
   "source": [
    "# Division\n",
    "a / b"
   ]
  },
  {
   "cell_type": "code",
   "execution_count": 32,
   "id": "b37a6d5d",
   "metadata": {},
   "outputs": [
    {
     "data": {
      "text/plain": [
       "array([ 0.84147098,  0.90929743,  0.14112001, -0.7568025 ])"
      ]
     },
     "execution_count": 32,
     "metadata": {},
     "output_type": "execute_result"
    }
   ],
   "source": [
    "# Sine function\n",
    "np.sin(a)"
   ]
  },
  {
   "cell_type": "code",
   "execution_count": 33,
   "id": "41248392",
   "metadata": {},
   "outputs": [
    {
     "data": {
      "text/plain": [
       "array([ 0.54030231, -0.41614684, -0.9899925 , -0.65364362])"
      ]
     },
     "execution_count": 33,
     "metadata": {},
     "output_type": "execute_result"
    }
   ],
   "source": [
    "# Cosine function\n",
    "np.cos(a)"
   ]
  },
  {
   "cell_type": "code",
   "execution_count": 34,
   "id": "efe1ef51",
   "metadata": {},
   "outputs": [
    {
     "data": {
      "text/plain": [
       "array([ 2.71828183,  7.3890561 , 20.08553692, 54.59815003])"
      ]
     },
     "execution_count": 34,
     "metadata": {},
     "output_type": "execute_result"
    }
   ],
   "source": [
    "# Exponential function\n",
    "np.exp(a)"
   ]
  },
  {
   "cell_type": "code",
   "execution_count": 35,
   "id": "230ae99a",
   "metadata": {},
   "outputs": [
    {
     "data": {
      "text/plain": [
       "array([0.        , 0.69314718, 1.09861229, 1.38629436])"
      ]
     },
     "execution_count": 35,
     "metadata": {},
     "output_type": "execute_result"
    }
   ],
   "source": [
    "# Logarithmic function\n",
    "np.log(a)"
   ]
  },
  {
   "cell_type": "code",
   "execution_count": 37,
   "id": "081d5e85",
   "metadata": {},
   "outputs": [
    {
     "data": {
      "text/plain": [
       "array([ 5, 10, 15, 20])"
      ]
     },
     "execution_count": 37,
     "metadata": {},
     "output_type": "execute_result"
    }
   ],
   "source": [
    "a * 5"
   ]
  },
  {
   "cell_type": "markdown",
   "id": "83e41607",
   "metadata": {},
   "source": [
    "## Array Manipulation"
   ]
  },
  {
   "cell_type": "code",
   "execution_count": 38,
   "id": "6b7c21e7",
   "metadata": {},
   "outputs": [
    {
     "data": {
      "text/plain": [
       "array([ 0,  1,  2,  3,  4,  5,  6,  7,  8,  9, 10, 11, 12, 13, 14, 15])"
      ]
     },
     "execution_count": 38,
     "metadata": {},
     "output_type": "execute_result"
    }
   ],
   "source": [
    "a = np.arange(16)\n",
    "a"
   ]
  },
  {
   "cell_type": "code",
   "execution_count": 41,
   "id": "0f37dd81",
   "metadata": {},
   "outputs": [
    {
     "data": {
      "text/plain": [
       "(16,)"
      ]
     },
     "execution_count": 41,
     "metadata": {},
     "output_type": "execute_result"
    }
   ],
   "source": [
    "a.shape"
   ]
  },
  {
   "cell_type": "code",
   "execution_count": 45,
   "id": "86b8aaa0",
   "metadata": {},
   "outputs": [
    {
     "data": {
      "text/plain": [
       "array([[ 0,  1,  2,  3,  4,  5,  6,  7],\n",
       "       [ 8,  9, 10, 11, 12, 13, 14, 15]])"
      ]
     },
     "execution_count": 45,
     "metadata": {},
     "output_type": "execute_result"
    }
   ],
   "source": [
    "a.reshape((2,-1))"
   ]
  },
  {
   "cell_type": "code",
   "execution_count": 47,
   "id": "ba652f2f",
   "metadata": {},
   "outputs": [
    {
     "data": {
      "text/plain": [
       "array([[[ 0,  1,  2,  3],\n",
       "        [ 4,  5,  6,  7]],\n",
       "\n",
       "       [[ 8,  9, 10, 11],\n",
       "        [12, 13, 14, 15]]])"
      ]
     },
     "execution_count": 47,
     "metadata": {},
     "output_type": "execute_result"
    }
   ],
   "source": [
    "a.reshape(-1,2,4)"
   ]
  },
  {
   "cell_type": "code",
   "execution_count": 2,
   "id": "79832f95",
   "metadata": {
    "ExecuteTime": {
     "end_time": "2023-11-12T13:23:06.611614700Z",
     "start_time": "2023-11-12T13:23:06.441318300Z"
    }
   },
   "outputs": [
    {
     "data": {
      "text/plain": "array([[ 0,  1,  2,  3,  4,  5,  6,  7,  8],\n       [ 9, 10, 11, 12, 13, 14, 15, 16, 17],\n       [18, 19, 20, 21, 22, 23, 24, 25, 26]])"
     },
     "execution_count": 2,
     "metadata": {},
     "output_type": "execute_result"
    }
   ],
   "source": [
    "a = np.arange(27).reshape(3,-1)\n",
    "a"
   ]
  },
  {
   "cell_type": "code",
   "execution_count": 51,
   "id": "08c61673",
   "metadata": {},
   "outputs": [
    {
     "data": {
      "text/plain": [
       "array([[ 0,  9, 18],\n",
       "       [ 1, 10, 19],\n",
       "       [ 2, 11, 20],\n",
       "       [ 3, 12, 21],\n",
       "       [ 4, 13, 22],\n",
       "       [ 5, 14, 23],\n",
       "       [ 6, 15, 24],\n",
       "       [ 7, 16, 25],\n",
       "       [ 8, 17, 26]])"
      ]
     },
     "execution_count": 51,
     "metadata": {},
     "output_type": "execute_result"
    }
   ],
   "source": [
    "a.T # a.transpose()"
   ]
  },
  {
   "cell_type": "code",
   "execution_count": 52,
   "id": "7198b09b",
   "metadata": {},
   "outputs": [
    {
     "data": {
      "text/plain": [
       "array([ 0,  1,  2,  3,  4,  5,  6,  7,  8,  9, 10, 11, 12, 13, 14, 15, 16,\n",
       "       17, 18, 19, 20, 21, 22, 23, 24, 25, 26])"
      ]
     },
     "execution_count": 52,
     "metadata": {},
     "output_type": "execute_result"
    }
   ],
   "source": [
    "# == a.reshape(26)\n",
    "a.reshape(-1)"
   ]
  },
  {
   "cell_type": "code",
   "execution_count": 54,
   "id": "43d544ee",
   "metadata": {},
   "outputs": [
    {
     "data": {
      "text/plain": [
       "array([[1, 2, 3],\n",
       "       [4, 5, 6]])"
      ]
     },
     "execution_count": 54,
     "metadata": {},
     "output_type": "execute_result"
    }
   ],
   "source": [
    "# Concatenating arrays: You can concatenate arrays along a specific axis\n",
    "\n",
    "\n",
    "a = np.array([[1, 2, 3],\n",
    "              [4, 5, 6]\n",
    "             ])\n",
    "b = np.array([[7, 8, 9],\n",
    "              [10,11,12]\n",
    "             ])\n",
    "a"
   ]
  },
  {
   "cell_type": "code",
   "execution_count": 56,
   "metadata": {},
   "outputs": [
    {
     "data": {
      "text/plain": [
       "array([7, 8, 9])"
      ]
     },
     "execution_count": 56,
     "metadata": {},
     "output_type": "execute_result"
    }
   ],
   "source": [
    "b[0]"
   ],
   "id": "93c0ce06230b17a9"
  },
  {
   "cell_type": "code",
   "execution_count": 61,
   "metadata": {},
   "outputs": [
    {
     "data": {
      "text/plain": [
       "array([ 1,  2,  3,  7,  8,  9,  4,  5,  6, 10, 11, 12])"
      ]
     },
     "execution_count": 61,
     "metadata": {},
     "output_type": "execute_result"
    }
   ],
   "source": [
    "\n",
    "# Concatenate arrays along axis 0\n",
    "np.concatenate((a, b), axis=0)"
   ],
   "id": "9888673ca43b47b6"
  },
  {
   "cell_type": "code",
   "execution_count": null,
   "id": "2f3ebb73",
   "metadata": {},
   "outputs": [],
   "source": [
    "# axis 0 - rows\n",
    "# axis 1 - columns\n",
    "# axis 2 - depth"
   ]
  },
  {
   "cell_type": "code",
   "execution_count": null,
   "id": "47002316",
   "metadata": {},
   "outputs": [],
   "source": [
    "# Concatenate arrays along axis 1\n",
    "np.concatenate((a, b), axis=1)"
   ]
  },
  {
   "cell_type": "code",
   "execution_count": 63,
   "id": "ba984d0a",
   "metadata": {},
   "outputs": [
    {
     "data": {
      "text/plain": [
       "array([[ 1,  2,  3],\n",
       "       [ 4,  5,  6],\n",
       "       [ 7,  8,  9],\n",
       "       [10, 11, 12]])"
      ]
     },
     "execution_count": 63,
     "metadata": {},
     "output_type": "execute_result"
    }
   ],
   "source": [
    "# np.hstack used to stack arrays horizontally (i.e. column-wise). \n",
    "# It takes a tuple of arrays as its argument and returns the stacked array\n",
    "\n",
    "a = np.array([[1, 2, 3], [4, 5, 6]])\n",
    "b = np.array([[7, 8, 9], [10, 11, 12]])\n",
    "\n",
    "c = np.vstack((a, b))\n",
    "\n",
    "c"
   ]
  },
  {
   "cell_type": "code",
   "execution_count": 64,
   "id": "cde8ca68",
   "metadata": {},
   "outputs": [
    {
     "data": {
      "text/plain": [
       "array([[1, 4, 7],\n",
       "       [2, 5, 8],\n",
       "       [3, 6, 9]])"
      ]
     },
     "execution_count": 64,
     "metadata": {},
     "output_type": "execute_result"
    }
   ],
   "source": [
    "# Stacking multiple arrays as columns\n",
    "\n",
    "a = np.array([1, 2, 3])\n",
    "b = np.array([4, 5, 6])\n",
    "c = np.array([7, 8, 9])\n",
    "\n",
    "d = np.column_stack((a, b, c))\n",
    "d"
   ]
  },
  {
   "cell_type": "code",
   "execution_count": 65,
   "id": "4512bb5b",
   "metadata": {},
   "outputs": [
    {
     "data": {
      "text/plain": [
       "array([[1, 2, 3],\n",
       "       [4, 5, 6]])"
      ]
     },
     "execution_count": 65,
     "metadata": {},
     "output_type": "execute_result"
    }
   ],
   "source": [
    "np.vstack(([1,2,3],[4,5,6]))"
   ]
  },
  {
   "cell_type": "code",
   "execution_count": 66,
   "id": "ecc88c70",
   "metadata": {},
   "outputs": [
    {
     "data": {
      "text/plain": [
       "array([[1, 4],\n",
       "       [2, 5],\n",
       "       [3, 6]])"
      ]
     },
     "execution_count": 66,
     "metadata": {},
     "output_type": "execute_result"
    }
   ],
   "source": [
    "np.column_stack(([1,2,3],[4,5,6]))"
   ]
  },
  {
   "cell_type": "code",
   "execution_count": 67,
   "id": "3e79937a",
   "metadata": {},
   "outputs": [
    {
     "data": {
      "text/plain": [
       "array([1, 2, 3, 4, 5, 6])"
      ]
     },
     "execution_count": 67,
     "metadata": {},
     "output_type": "execute_result"
    }
   ],
   "source": [
    "np.hstack(([1,2,3],[4,5,6]))"
   ]
  },
  {
   "cell_type": "code",
   "execution_count": 74,
   "id": "61d8eccd",
   "metadata": {},
   "outputs": [
    {
     "data": {
      "text/plain": [
       "[array([1, 2]), array([3, 4]), array([5, 6])]"
      ]
     },
     "execution_count": 74,
     "metadata": {},
     "output_type": "execute_result"
    }
   ],
   "source": [
    "a = np.array([1, 2, 3, 4, 5, 6])\n",
    "\n",
    "# Split the array into three equal parts\n",
    "np.split(a, 3)"
   ]
  },
  {
   "cell_type": "code",
   "execution_count": 76,
   "id": "e13afa99",
   "metadata": {},
   "outputs": [
    {
     "data": {
      "text/plain": [
       "[array([1, 2, 3]), array([4, 5]), array([6])]"
      ]
     },
     "execution_count": 76,
     "metadata": {},
     "output_type": "execute_result"
    }
   ],
   "source": [
    "np.split(a, [3,5])"
   ]
  },
  {
   "cell_type": "code",
   "execution_count": null,
   "id": "f9505c54",
   "metadata": {},
   "outputs": [],
   "source": []
  },
  {
   "cell_type": "code",
   "execution_count": 78,
   "id": "c22119af",
   "metadata": {},
   "outputs": [
    {
     "data": {
      "text/plain": [
       "array([0.        , 0.02564103, 0.05128205, 0.07692308, 0.1025641 ,\n",
       "       0.12820513, 0.15384615, 0.17948718, 0.20512821, 0.23076923,\n",
       "       0.25641026, 0.28205128, 0.30769231, 0.33333333, 0.35897436,\n",
       "       0.38461538, 0.41025641, 0.43589744, 0.46153846, 0.48717949,\n",
       "       0.51282051, 0.53846154, 0.56410256, 0.58974359, 0.61538462,\n",
       "       0.64102564, 0.66666667, 0.69230769, 0.71794872, 0.74358974,\n",
       "       0.76923077, 0.79487179, 0.82051282, 0.84615385, 0.87179487,\n",
       "       0.8974359 , 0.92307692, 0.94871795, 0.97435897, 1.        ])"
      ]
     },
     "execution_count": 78,
     "metadata": {},
     "output_type": "execute_result"
    }
   ],
   "source": [
    "# Generate an array of 10 values evenly spaced between 0 and 18\n",
    "x = np.linspace(0, 1, 40)\n",
    "x"
   ]
  },
  {
   "cell_type": "code",
   "execution_count": null,
   "metadata": {},
   "outputs": [],
   "source": [],
   "id": "e3ad8e9db98c7e57"
  },
  {
   "cell_type": "markdown",
   "id": "5fb97a08",
   "metadata": {},
   "source": [
    "## Random number generation: \n",
    "NumPy provides functions for generating random numbers and arrays, which are useful in simulations and statistical modeling."
   ]
  },
  {
   "cell_type": "code",
   "execution_count": 81,
   "id": "e48dbe58",
   "metadata": {},
   "outputs": [
    {
     "data": {
      "text/plain": [
       "4"
      ]
     },
     "execution_count": 81,
     "metadata": {},
     "output_type": "execute_result"
    }
   ],
   "source": [
    "# Generating an array of random integers between 0 and 9\n",
    "np.random.randint(0, 10, size=15)"
   ]
  },
  {
   "cell_type": "code",
   "execution_count": 82,
   "id": "f8539ba0",
   "metadata": {},
   "outputs": [
    {
     "data": {
      "text/plain": [
       "array([[ 16, -35,   0,  61],\n",
       "       [-22,  87, 112, -14],\n",
       "       [118, -10, -21, -22]])"
      ]
     },
     "execution_count": 82,
     "metadata": {},
     "output_type": "execute_result"
    }
   ],
   "source": [
    "np.random.randint(-45, 120, size=(3,4))"
   ]
  },
  {
   "cell_type": "code",
   "execution_count": 83,
   "id": "584bf9c8",
   "metadata": {},
   "outputs": [
    {
     "data": {
      "text/plain": [
       "array([0.11334488, 0.49256843, 0.8216178 , 0.79135543, 0.24707862])"
      ]
     },
     "execution_count": 83,
     "metadata": {},
     "output_type": "execute_result"
    }
   ],
   "source": [
    "# Generating an array of random floats between 0 and 1\n",
    "rand_floats = np.random.random(size=5)\n",
    "rand_floats"
   ]
  },
  {
   "cell_type": "code",
   "execution_count": 84,
   "id": "a86dd4e3",
   "metadata": {},
   "outputs": [
    {
     "data": {
      "text/plain": [
       "array([-1.25792884,  0.28654463,  0.81315634,  0.23323809, -0.31616135])"
      ]
     },
     "execution_count": 84,
     "metadata": {},
     "output_type": "execute_result"
    }
   ],
   "source": [
    "# Generating random numbers from a normal distribution\n",
    "\n",
    "# Note that loc represents the mean of the normal distribution, \n",
    "# and scale represents the standard deviation. The size parameter determines \n",
    "# the number of random numbers to generate.\n",
    "\n",
    "rand_norm = np.random.normal(loc=0, scale=1, size=5)\n",
    "rand_norm"
   ]
  },
  {
   "cell_type": "code",
   "execution_count": 85,
   "id": "53327809",
   "metadata": {},
   "outputs": [
    {
     "data": {
      "text/plain": [
       "array([1, 5, 3, 4, 2])"
      ]
     },
     "execution_count": 85,
     "metadata": {},
     "output_type": "execute_result"
    }
   ],
   "source": [
    "# Generating a random permutation of a given array\n",
    "arr = np.array([1, 2, 3, 4, 5])\n",
    "rand_perm = np.random.permutation(arr)\n",
    "rand_perm"
   ]
  },
  {
   "cell_type": "code",
   "execution_count": 86,
   "id": "e9cd0caf",
   "metadata": {},
   "outputs": [
    {
     "data": {
      "text/plain": [
       "array([4, 3, 5])"
      ]
     },
     "execution_count": 86,
     "metadata": {},
     "output_type": "execute_result"
    }
   ],
   "source": [
    "# Generating a random subset of a given array\n",
    "arr = np.array([1, 2, 3, 4, 5])\n",
    "rand_subset = np.random.choice(arr, size=3, replace=False)\n",
    "rand_subset"
   ]
  },
  {
   "cell_type": "code",
   "execution_count": 87,
   "id": "97de8788",
   "metadata": {},
   "outputs": [
    {
     "data": {
      "text/plain": [
       "array([[4, 3, 2],\n",
       "       [3, 3, 2]])"
      ]
     },
     "execution_count": 87,
     "metadata": {},
     "output_type": "execute_result"
    }
   ],
   "source": [
    "np.random.choice(arr, size=(2,3), replace=True)"
   ]
  },
  {
   "cell_type": "code",
   "execution_count": 93,
   "id": "5e2b544b",
   "metadata": {},
   "outputs": [
    {
     "data": {
      "text/plain": [
       "(46, 55)"
      ]
     },
     "execution_count": 93,
     "metadata": {},
     "output_type": "execute_result"
    }
   ],
   "source": [
    "# Setting the seed for reproducibility\n",
    "np.random.seed(4)\n",
    "np.random.randint(0, 100),np.random.randint(0, 100)"
   ]
  },
  {
   "cell_type": "code",
   "execution_count": 104,
   "id": "f324fe4f",
   "metadata": {},
   "outputs": [
    {
     "data": {
      "text/plain": [
       "57"
      ]
     },
     "execution_count": 104,
     "metadata": {},
     "output_type": "execute_result"
    }
   ],
   "source": [
    "# np.random.seed(32)\n",
    "np.random.randint(0, 100)"
   ]
  },
  {
   "cell_type": "markdown",
   "id": "8dd0465a",
   "metadata": {},
   "source": [
    "## Shape manipulation: \n",
    "NumPy provides functions for reshaping and transforming arrays, including transposing, stacking, and splitting.\n",
    "\n",
    "## Slicing and indexing: \n",
    "NumPy arrays can be indexed and sliced just like lists in Python, allowing for efficient selection and extraction of subsets of data."
   ]
  },
  {
   "cell_type": "code",
   "execution_count": 106,
   "id": "c455ba18",
   "metadata": {},
   "outputs": [
    {
     "data": {
      "text/plain": [
       "array([1, 2])"
      ]
     },
     "execution_count": 106,
     "metadata": {},
     "output_type": "execute_result"
    }
   ],
   "source": [
    "arr = np.array([0, 1, 2, 3, 4, 5])\n",
    "sliced_array = arr[1:3]\n",
    "sliced_array"
   ]
  },
  {
   "cell_type": "code",
   "execution_count": 109,
   "id": "e83c1e40",
   "metadata": {},
   "outputs": [
    {
     "data": {
      "text/plain": [
       "array([[3],\n",
       "       [6]])"
      ]
     },
     "execution_count": 109,
     "metadata": {},
     "output_type": "execute_result"
    }
   ],
   "source": [
    "# Slicing a 2D numpy array along the rows\n",
    "\n",
    "arr = np.array([[1, 2, 3], [4, 5, 6], [7, 8, 9]])\n",
    "sliced_array = arr[0:2,2:]\n",
    "sliced_array"
   ]
  },
  {
   "cell_type": "code",
   "execution_count": 110,
   "id": "be9e6023",
   "metadata": {},
   "outputs": [
    {
     "data": {
      "text/plain": [
       "array([[2, 3],\n",
       "       [5, 6],\n",
       "       [8, 9]])"
      ]
     },
     "execution_count": 110,
     "metadata": {},
     "output_type": "execute_result"
    }
   ],
   "source": [
    "# Slicing a 2D numpy array along the columns\n",
    "\n",
    "arr = np.array([[1, 2, 3], [4, 5, 6], [7, 8, 9]])\n",
    "sliced_array = arr[:, 1:3]\n",
    "sliced_array"
   ]
  },
  {
   "cell_type": "code",
   "execution_count": 119,
   "metadata": {},
   "outputs": [
    {
     "data": {
      "text/plain": [
       "array([False, False, False, False,  True,  True,  True,  True,  True,\n",
       "        True])"
      ]
     },
     "execution_count": 119,
     "metadata": {},
     "output_type": "execute_result"
    }
   ],
   "source": [
    "arr > 23"
   ],
   "id": "66bdc9c0c50966ef"
  },
  {
   "cell_type": "code",
   "execution_count": 118,
   "id": "f198ab61",
   "metadata": {},
   "outputs": [
    {
     "name": "stdout",
     "output_type": "stream",
     "text": [
      "[20 21 22 23 24 25 26 27 28 29]\n"
     ]
    },
    {
     "data": {
      "text/plain": [
       "(array([3, 4, 5, 6, 7, 8, 9]),)"
      ]
     },
     "execution_count": 118,
     "metadata": {},
     "output_type": "execute_result"
    }
   ],
   "source": [
    "# filtering\n",
    "\n",
    "arr = np.array([1, 2, 3, 4, 5])\n",
    "arr = np.arange(20,30)\n",
    "print(arr)\n",
    "\n",
    "result = np.where(arr >= 23)\n",
    "result"
   ]
  },
  {
   "cell_type": "code",
   "execution_count": 121,
   "id": "decf3d14",
   "metadata": {},
   "outputs": [
    {
     "data": {
      "text/plain": [
       "array([10, 13,  3,  4,  5])"
      ]
     },
     "execution_count": 121,
     "metadata": {},
     "output_type": "execute_result"
    }
   ],
   "source": [
    "# using mask\n",
    "\n",
    "arr = np.array([10,13,1, 2, 3, 4, 5])\n",
    "mask = arr >= 3\n",
    "arr[mask]"
   ]
  },
  {
   "cell_type": "code",
   "execution_count": 122,
   "id": "e40b77ec",
   "metadata": {},
   "outputs": [
    {
     "data": {
      "text/plain": [
       "array([ True,  True, False, False,  True,  True,  True])"
      ]
     },
     "execution_count": 122,
     "metadata": {},
     "output_type": "execute_result"
    }
   ],
   "source": [
    "mask"
   ]
  },
  {
   "cell_type": "code",
   "execution_count": 123,
   "id": "d759d872",
   "metadata": {},
   "outputs": [
    {
     "data": {
      "text/plain": [
       "3"
      ]
     },
     "execution_count": 123,
     "metadata": {},
     "output_type": "execute_result"
    }
   ],
   "source": [
    "# Counting elements in a numpy array using \"count_nonzero\":\n",
    "\n",
    "\n",
    "arr = np.array([1, 2, 3, 4, 5])\n",
    "result = np.count_nonzero(arr >= 3)\n",
    "result"
   ]
  },
  {
   "cell_type": "code",
   "execution_count": 124,
   "id": "c939f2d4",
   "metadata": {},
   "outputs": [
    {
     "data": {
      "text/plain": [
       "3"
      ]
     },
     "execution_count": 124,
     "metadata": {},
     "output_type": "execute_result"
    }
   ],
   "source": [
    "(arr >= 3).sum()"
   ]
  },
  {
   "cell_type": "code",
   "execution_count": 125,
   "metadata": {},
   "outputs": [
    {
     "data": {
      "text/plain": [
       "3"
      ]
     },
     "execution_count": 125,
     "metadata": {},
     "output_type": "execute_result"
    }
   ],
   "source": [
    "np.sum(arr>=3)"
   ],
   "id": "9b8fb86ead876453"
  },
  {
   "cell_type": "code",
   "execution_count": 128,
   "id": "05158caa",
   "metadata": {},
   "outputs": [
    {
     "data": {
      "text/plain": [
       "array([1, 2, 2])"
      ]
     },
     "execution_count": 128,
     "metadata": {},
     "output_type": "execute_result"
    }
   ],
   "source": [
    "# Counting elements in a 2D numpy array:\n",
    "\n",
    "arr = np.array([[1, 2, 3], \n",
    "                [4, 5, 6], \n",
    "                [7, 8, 9]])\n",
    "result = np.count_nonzero(arr >= 5,axis=0)\n",
    "result"
   ]
  },
  {
   "cell_type": "code",
   "execution_count": 127,
   "metadata": {},
   "outputs": [
    {
     "data": {
      "text/plain": [
       "array([[False, False, False],\n",
       "       [False,  True,  True],\n",
       "       [ True,  True,  True]])"
      ]
     },
     "execution_count": 127,
     "metadata": {},
     "output_type": "execute_result"
    }
   ],
   "source": [
    "arr >= 5"
   ],
   "id": "a1a72df0f9d8d8d3"
  },
  {
   "cell_type": "markdown",
   "id": "cb782c82",
   "metadata": {},
   "source": [
    "## Example of computing probability with numpy"
   ]
  },
  {
   "cell_type": "code",
   "execution_count": null,
   "id": "bb47044f",
   "metadata": {},
   "outputs": [],
   "source": [
    "# A dice is thrown twice without any bias. \n",
    "# What is the probability that the sum of numbers the thrower got in those \n",
    "# two throws is equal to 6"
   ]
  },
  {
   "cell_type": "code",
   "execution_count": null,
   "id": "534caf71",
   "metadata": {},
   "outputs": [],
   "source": [
    "# The probability of getting a sum of 6 in two dice throws is 5/36. \n",
    "# To get a sum of 6, the number on the first dice must be one of the numbers from 1 to 5. \n",
    "# This means the probability of getting one of these numbers is 5/6. \n",
    "# Then, for each number that appears on the first dice, \n",
    "# there is only one number that completes the sum to 6. \n",
    "# The probability of getting this number is 1/6. \n",
    "# Multiplying these two probabilities together, we get the final probability of getting \n",
    "# a sum of 6 in two dice throws which is 5/6 * 1/6 = 5/36.\n",
    "\n"
   ]
  },
  {
   "cell_type": "code",
   "execution_count": 138,
   "id": "6d69d914",
   "metadata": {},
   "outputs": [],
   "source": [
    "first_dice = np.random.randint(1,7,int(1e6))\n",
    "second_dice = np.random.randint(1,7,int(1e6))"
   ]
  },
  {
   "cell_type": "code",
   "execution_count": 139,
   "id": "958e97cb",
   "metadata": {},
   "outputs": [
    {
     "data": {
      "text/plain": [
       "array([4, 6, 5, ..., 2, 6, 6])"
      ]
     },
     "execution_count": 139,
     "metadata": {},
     "output_type": "execute_result"
    }
   ],
   "source": [
    "first_dice"
   ]
  },
  {
   "cell_type": "code",
   "execution_count": 140,
   "id": "a694278b",
   "metadata": {},
   "outputs": [],
   "source": [
    "dices_sum = first_dice+second_dice"
   ]
  },
  {
   "cell_type": "code",
   "execution_count": 141,
   "id": "d7a1ada4",
   "metadata": {},
   "outputs": [
    {
     "data": {
      "text/plain": [
       "(1000000,)"
      ]
     },
     "execution_count": 141,
     "metadata": {},
     "output_type": "execute_result"
    }
   ],
   "source": [
    "dices_sum.shape"
   ]
  },
  {
   "cell_type": "code",
   "execution_count": 142,
   "id": "c28ab6ab",
   "metadata": {},
   "outputs": [],
   "source": [
    "n = dices_sum.size\n",
    "k = np.count_nonzero(dices_sum == 6)"
   ]
  },
  {
   "cell_type": "code",
   "execution_count": 143,
   "id": "88c83d5d",
   "metadata": {},
   "outputs": [
    {
     "data": {
      "text/plain": [
       "0.138774"
      ]
     },
     "execution_count": 143,
     "metadata": {},
     "output_type": "execute_result"
    }
   ],
   "source": [
    "k/n"
   ]
  },
  {
   "cell_type": "code",
   "execution_count": 144,
   "id": "ecc7a0a3",
   "metadata": {},
   "outputs": [
    {
     "data": {
      "text/plain": [
       "0.1388888888888889"
      ]
     },
     "execution_count": 144,
     "metadata": {},
     "output_type": "execute_result"
    }
   ],
   "source": [
    "true_answer = 5/36\n",
    "true_answer"
   ]
  },
  {
   "cell_type": "code",
   "execution_count": 147,
   "id": "c12b7b71",
   "metadata": {},
   "outputs": [],
   "source": [
    "tolerance = 1e-3\n",
    "\n",
    "np.testing.assert_allclose(k/n, true_answer, \n",
    "                           rtol=tolerance)\n"
   ]
  },
  {
   "cell_type": "code",
   "execution_count": null,
   "id": "8e90a033",
   "metadata": {},
   "outputs": [],
   "source": [
    "A = np.array([[1,1],[0,1]])\n",
    "B = np.array([[2,0],[3,4]])\n",
    "A+B              #addition of two array\n",
    "np.add(A,B)      #addition of two array\n",
    "A * B            # elementwise product\n",
    "A @ B            # matrix product\n",
    "A.dot(B)         # another matrix product\n",
    "B.T              #Transpose of B array\n",
    "A.flatten()      #form 1-d array\n",
    "B < 3            #Boolean of Matrix B. True for elements less than 3\n",
    "A.sum()          # sum of all elements of A\n",
    "A.sum(axis=0)    # sum of each column\n",
    "A.sum(axis=1)    # sum of each row\n",
    "A.cumsum(axis=1) # cumulative sum along each row\n",
    "A.min()          # min value of all elements\n",
    "A.max()          # max value of all elements\n",
    "np.exp(B)        # exponential\n",
    "np.sqrt(B)       # squre root\n",
    "A.argmin()       #position of min value of elements \n",
    "A.argmax()       #position of max value of elements\n",
    "A[1,1]           #member of a array in (1,1) position"
   ]
  },
  {
   "cell_type": "code",
   "execution_count": 152,
   "id": "e57b4f7f",
   "metadata": {},
   "outputs": [
    {
     "data": {
      "text/plain": [
       "(array([1, 2, 3, 4, 5, 6, 7, 8]),\n",
       " array([    1,     2,     6,    24,   120,   720,  5040, 40320]))"
      ]
     },
     "execution_count": 152,
     "metadata": {},
     "output_type": "execute_result"
    }
   ],
   "source": [
    "a = np.arange(1,9)\n",
    "a,a.cumprod()"
   ]
  },
  {
   "cell_type": "markdown",
   "metadata": {},
   "source": [
    "# Exercises\n",
    "\n",
    "Filtering:\n",
    "\n",
    "1. Create a random NumPy array and filter out all elements greater than 5, replacing them with zeros.\n",
    "\n",
    "2. Given a 2D NumPy array, extract all rows where the values in the first column are greater than 10.\n",
    "\n",
    "3. Filter a NumPy array to retain only unique values, eliminating duplicates.\n",
    "\n",
    "Aggregation and Axis:\n",
    "\n",
    "4. Calculate the sum of elements along each row of a 2D NumPy array.\n",
    "\n",
    "5. Compute the mean of each column in a 2D NumPy array.\n",
    "\n",
    "6. Find the maximum value in each row of a 2D NumPy array and return the corresponding column indices.\n",
    "\n",
    "7. Use NumPy to calculate the median of a dataset along a specific axis.\n",
    "\n",
    "8. Apply a custom aggregation function to a NumPy array, e.g., finding the product of all elements along a given axis.\n",
    "\n",
    "Feel free to try these tasks on your own or ask for more information if needed."
   ],
   "id": "688eea812b42fa48"
  },
  {
   "cell_type": "markdown",
   "id": "fcab1193",
   "metadata": {},
   "source": [
    "# Task\n",
    "The goal of the exercise is to analyze the test scores of 20 students over 5 dates and 7 courses. The scores are stored in a 3D array of shape (20, 5, 7).\n",
    "\n",
    "Here is the description of the steps to perform the exercise:\n",
    "\n",
    "1. Find the average of each course: Calculate the mean of all the scores for each of the 7 courses across all 20 students and 5 dates. This will give you the average score for each course. (shape - (7,))\n",
    "\n",
    "\n",
    "\n",
    "2. Find the spread of each student\n",
    "    Compute the average across time of the minimum score in each date for each student (20,): \n",
    "    For each student, find the minimum score across all 7 courses (20,5). \n",
    "    Then, calculate the mean of these minimum scores across all dates for each student.\n",
    "\n",
    "    do it again with the maximum score in each date\n",
    "\n",
    "    Return the difference: Subtract the average of the minimum scores from the average of the maximum scores to get the difference. \n",
    "\n",
    "Overall, this exercise requires using the numpy library to manipulate the 3D array of scores, perform element-wise operations, and calculate means and extrema.\n",
    "\n",
    "\n"
   ]
  },
  {
   "cell_type": "code",
   "execution_count": null,
   "id": "13fbb3b0",
   "metadata": {},
   "outputs": [],
   "source": [
    "import matplotlib.pyplot as plt"
   ]
  },
  {
   "cell_type": "code",
   "execution_count": null,
   "id": "ea400e04",
   "metadata": {},
   "outputs": [],
   "source": [
    "\n",
    "# Generate random scores using a skewed distribution\n",
    "np.random.seed(42)\n",
    "scores = 100-(np.random.gamma(2, 1, (20,5,7))*10)\n",
    "scores = scores.astype(int)\n",
    "\n",
    "# Plot the histogram of the scores\n",
    "\n",
    "plt.hist(scores.reshape(-1), bins=30, edgecolor='black')\n",
    "plt.show()\n"
   ]
  },
  {
   "cell_type": "code",
   "execution_count": null,
   "id": "a080e21f",
   "metadata": {},
   "outputs": [],
   "source": [
    "scores.shape"
   ]
  },
  {
   "cell_type": "code",
   "execution_count": null,
   "id": "9e537f2f",
   "metadata": {},
   "outputs": [],
   "source": [
    "# Output2 \n",
    "\n",
    "# [29.6, 36. , 35.4, 35.8, 38.4, 28.8, 39.4, 43.4, 27.4, 43.4, 40. ,\n",
    "#  32. , 30.8, 30.4, 45.6, 34.6, 33.6, 34.8, 49.6, 36.8]"
   ]
  },
  {
   "cell_type": "code",
   "execution_count": null,
   "metadata": {},
   "outputs": [],
   "source": [],
   "id": "c4bbb194a48e7cb9"
  }
 ],
 "metadata": {
  "kernelspec": {
   "display_name": "Python 3 (ipykernel)",
   "language": "python",
   "name": "python3"
  },
  "language_info": {
   "codemirror_mode": {
    "name": "ipython",
    "version": 3
   },
   "file_extension": ".py",
   "mimetype": "text/x-python",
   "name": "python",
   "nbconvert_exporter": "python",
   "pygments_lexer": "ipython3",
   "version": "3.10.12"
  }
 },
 "nbformat": 4,
 "nbformat_minor": 5
}
